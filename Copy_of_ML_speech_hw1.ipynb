{
  "nbformat": 4,
  "nbformat_minor": 0,
  "metadata": {
    "colab": {
      "name": "Copy of ML-speech-hw1.ipynb",
      "provenance": [],
      "collapsed_sections": []
    },
    "kernelspec": {
      "name": "python3",
      "display_name": "Python 3"
    }
  },
  "cells": [
    {
      "cell_type": "markdown",
      "metadata": {
        "id": "1-KfCVFlcugC"
      },
      "source": [
        "## Machine Learning for Speech - **Homework 1**\n",
        "**Instructors**: Trung Ngo Trong (trung@uef.fi) & Xuechen Liu (xuecliu@uef.fi)\n",
        "\n",
        "**Deadline**: 2020.11.04, 9:50 AM (10 minutes before the session)\n",
        "\n",
        "### Goals of this exercise\n",
        "* Grab basics of Python and Google Colab\n",
        "* Learn how to load waveform signal from files in multiple ways using python packages and perform basic analysis\n",
        "* Have a glance on representitve signal processing steps\n",
        "* Perform simple gender recognition based on F0\n",
        "\n",
        "### Scoring (total: 10 points)\n",
        "* **Prog Ex.1**: 2 points\n",
        "* **Prog Ex.2**: 2 points\n",
        "* **Prog Ex.3**: 6 points\n"
      ]
    },
    {
      "cell_type": "markdown",
      "metadata": {
        "id": "xKKR8BFRrPnq"
      },
      "source": [
        "## Introduction (and how to make submission)\n",
        "\n",
        "### Programming\n",
        "Throughout this course we use Python 3 as main programming language. A gentle introduction of Python 3 can be found at [this link](https://www.tutorialspoint.com/python3/index.htm). For this week's exercise (and probably later weeks'?) students are not required to use advanced methods so one can refresh/learn only basic parts. But of course if you have some programming experience, you will surely be comfortable on refreshing them all.\n",
        "\n",
        "Apart from basic Python knowledge and more interesting packages and libraries which will be visited later, we generally heavily rely on:\n",
        "* Numpy for numerical computation (and minor signal analysis). A comprehensive introduction can be found in [this Nature paper](https://www.nature.com/articles/s41586-020-2649-2);\n",
        "* Matplotlib for visualization.\n",
        "* Scikit-learn (sklearn) for basic machine learning related implementations.\n",
        "\n",
        "In case students want to have a more compact tutorial:\n",
        "* Trung's tutorial on those libraries are in [this link](https://colab.research.google.com/drive/1ISbtr5WV-77uR_ToZyF490SSSMVWQ_Mn?usp=sharing). \n",
        "* [Numpy tutorial from Stanford CS231n](https://colab.research.google.com/github/cs231n/cs231n.github.io/blob/master/python-colab.ipynb?fbclid=IwAR3kZTcxqJnSdB_BIrOH8A0Cv_cVHAOPEZ3MJbMP1EJlGiP4KWRt6TlR0xU)\n",
        "\n",
        "### How to answer questions - **IMPORTANT**\n",
        "To answer open-ended questions, there is no difference from answering them by pen and paper: you should simply create empty space under the question and provide your answers! Of course, if you want to do some typesetting, you may need some knowledge on [markdown](https://www.google.com/search?q=markdown+tutorial&oq=markdown+tutorial&aqs=chrome..69i57.2526j0j1&sourceid=chrome&ie=UTF-8) and [latex equations](https://www.overleaf.com/learn/latex/mathematical_expressions). For your reference, this note is written in Markdown.\n",
        "\n",
        "### How to make submission - **IMPORTANT**\n",
        "**File** $\\to$ **Download .ipynb** $\\to$ _Compress the .ipynb file to PDF and send the PDF to submit it to digicampus, or to instructors' email (as a back-up)_.\n",
        "\n",
        "Note 1: Please re-name the PDF to your name and student number. Any modification/submission after the deadline will be disregarded.\n",
        "\n",
        "Note 2: Please make sure your answers are included in generated PDF 😂"
      ]
    },
    {
      "cell_type": "markdown",
      "metadata": {
        "id": "LV6YGvaDK-ZW"
      },
      "source": [
        "## Programming exercise 1: Basic I/O and visuals (2 points)\n",
        "For this week you are asked to familiarize youself with some pythonic audio packages and perform some basic analysis on loaded waveform/signal.\n",
        "\n",
        "So the very first task would be load waveform. Please run the code below to:\n",
        "* Download the wav files to your local space\n",
        "* Install packages we are going to use via a tool called [pip](https://pypi.org/project/pip/). People who use Python should be familiar with this guy (although there are some minor discussion on its potential problems compared with installing directly via source package). For people who does not familiar with Python, it will be very useful for this course to install packages under pythonic environments - this notebook, for example.\n",
        "\n",
        "---\n",
        "\n",
        "\n"
      ]
    },
    {
      "cell_type": "code",
      "metadata": {
        "id": "xlxTtmnjWeD4",
        "outputId": "6e4e0083-7b6a-4554-edfe-3b269b5ef801",
        "colab": {
          "base_uri": "https://localhost:8080/"
        }
      },
      "source": [
        "!wget -nc http://cs.uef.fi/~vvestman/sounds/Im_Superman.wav\n",
        "!wget -nc http://cs.uef.fi/~vvestman/sounds/Count_Of_Three-8khz.wav\n",
        "  \n",
        "# Backup links:\n",
        "#!wget -nc https://vvestman.github.io/summerschool19/sounds/Im_Superman.wav  \n",
        "#!wget -nc https://vvestman.github.io/summerschool19/sounds/Count_Of_Three-8khz.wav\n",
        "  \n",
        "!pip install pysoundfile\n",
        "!pip install numpy matplotlib \n",
        "!pip install librosa\n",
        "!pip install python_speech_features\n",
        "\n",
        "import numpy as np\n",
        "import librosa\n",
        "import python_speech_features\n",
        "import soundfile\n",
        "import matplotlib.pyplot as plt"
      ],
      "execution_count": 3,
      "outputs": [
        {
          "output_type": "stream",
          "text": [
            "File ‘Im_Superman.wav’ already there; not retrieving.\n",
            "\n",
            "File ‘Count_Of_Three-8khz.wav’ already there; not retrieving.\n",
            "\n",
            "Requirement already satisfied: pysoundfile in /usr/local/lib/python3.6/dist-packages (0.9.0.post1)\n",
            "Requirement already satisfied: cffi>=0.6 in /usr/local/lib/python3.6/dist-packages (from pysoundfile) (1.14.3)\n",
            "Requirement already satisfied: pycparser in /usr/local/lib/python3.6/dist-packages (from cffi>=0.6->pysoundfile) (2.20)\n",
            "Requirement already satisfied: numpy in /usr/local/lib/python3.6/dist-packages (1.18.5)\n",
            "Requirement already satisfied: matplotlib in /usr/local/lib/python3.6/dist-packages (3.2.2)\n",
            "Requirement already satisfied: kiwisolver>=1.0.1 in /usr/local/lib/python3.6/dist-packages (from matplotlib) (1.2.0)\n",
            "Requirement already satisfied: python-dateutil>=2.1 in /usr/local/lib/python3.6/dist-packages (from matplotlib) (2.8.1)\n",
            "Requirement already satisfied: cycler>=0.10 in /usr/local/lib/python3.6/dist-packages (from matplotlib) (0.10.0)\n",
            "Requirement already satisfied: pyparsing!=2.0.4,!=2.1.2,!=2.1.6,>=2.0.1 in /usr/local/lib/python3.6/dist-packages (from matplotlib) (2.4.7)\n",
            "Requirement already satisfied: six>=1.5 in /usr/local/lib/python3.6/dist-packages (from python-dateutil>=2.1->matplotlib) (1.15.0)\n",
            "Requirement already satisfied: librosa in /usr/local/lib/python3.6/dist-packages (0.6.3)\n",
            "Requirement already satisfied: numba>=0.38.0 in /usr/local/lib/python3.6/dist-packages (from librosa) (0.48.0)\n",
            "Requirement already satisfied: scikit-learn!=0.19.0,>=0.14.0 in /usr/local/lib/python3.6/dist-packages (from librosa) (0.22.2.post1)\n",
            "Requirement already satisfied: numpy>=1.8.0 in /usr/local/lib/python3.6/dist-packages (from librosa) (1.18.5)\n",
            "Requirement already satisfied: joblib>=0.12 in /usr/local/lib/python3.6/dist-packages (from librosa) (0.17.0)\n",
            "Requirement already satisfied: resampy>=0.2.0 in /usr/local/lib/python3.6/dist-packages (from librosa) (0.2.2)\n",
            "Requirement already satisfied: audioread>=2.0.0 in /usr/local/lib/python3.6/dist-packages (from librosa) (2.1.9)\n",
            "Requirement already satisfied: six>=1.3 in /usr/local/lib/python3.6/dist-packages (from librosa) (1.15.0)\n",
            "Requirement already satisfied: decorator>=3.0.0 in /usr/local/lib/python3.6/dist-packages (from librosa) (4.4.2)\n",
            "Requirement already satisfied: scipy>=1.0.0 in /usr/local/lib/python3.6/dist-packages (from librosa) (1.4.1)\n",
            "Requirement already satisfied: llvmlite<0.32.0,>=0.31.0dev0 in /usr/local/lib/python3.6/dist-packages (from numba>=0.38.0->librosa) (0.31.0)\n",
            "Requirement already satisfied: setuptools in /usr/local/lib/python3.6/dist-packages (from numba>=0.38.0->librosa) (50.3.2)\n",
            "Requirement already satisfied: python_speech_features in /usr/local/lib/python3.6/dist-packages (0.6)\n"
          ],
          "name": "stdout"
        }
      ]
    },
    {
      "cell_type": "markdown",
      "metadata": {
        "id": "h4jteyjKZQdJ"
      },
      "source": [
        "Next, we need to load the waveform and output the signal:"
      ]
    },
    {
      "cell_type": "code",
      "metadata": {
        "id": "wfb5W0X7dJTL"
      },
      "source": [
        "signal, _ = soundfile.read('Im_Superman.wav')"
      ],
      "execution_count": 6,
      "outputs": []
    },
    {
      "cell_type": "markdown",
      "metadata": {
        "id": "aqUPn1j2eBwD"
      },
      "source": [
        "Hope you just ran the code above without errors. If there is any error, please track te error via colab utilities.\n",
        "\n",
        "So the very first task is to plot the waveform via matplotlib. Specifically:\n",
        "1. Plot the waveform loaded from `Im_Superman.wav` using utilities from matplotlib. Plot title is name of wav file.\n",
        "2. Plot a random chunk of signal. Let's say length of chunk is 500. Plot title is $name_of_wav_file_500.\n",
        "3. Repeat soundfile loading and tasks 1-2 for `Count_Of_Three-8khz.wav`. You can put all code in one block, as indicated below."
      ]
    },
    {
      "cell_type": "code",
      "metadata": {
        "id": "9t9BxSZBlVN9",
        "outputId": "142e23fb-9f71-4106-a04e-9c9aef120fa7",
        "colab": {
          "base_uri": "https://localhost:8080/",
          "height": 545
        }
      },
      "source": [
        "# TODO Code answers to tasks 1-2\n",
        "plt.plot(signal)\n",
        "plt.title(\"Im_Superman.wav\")\n",
        "plt.show()\n",
        "random_indexes = np.random.choice(_, 500, replace=False)\n",
        "random_signals = signal[random_indexes]\n",
        "plt.plot(random_signals)\n",
        "plt.title(\"Im_Superman.wav_500\")\n",
        "plt.show()\n"
      ],
      "execution_count": 7,
      "outputs": [
        {
          "output_type": "display_data",
          "data": {
            "image/png": "[encoded data removed]",
            "text/plain": [
              "<Figure size 432x288 with 1 Axes>"
            ]
          },
          "metadata": {
            "tags": [],
            "needs_background": "light"
          }
        },
        {
          "output_type": "display_data",
          "data": {
            "image/png": "[encoded data removed]",
            "text/plain": [
              "<Figure size 432x288 with 1 Axes>"
            ]
          },
          "metadata": {
            "tags": [],
            "needs_background": "light"
          }
        }
      ]
    },
    {
      "cell_type": "code",
      "metadata": {
        "id": "RktbPXWXlYTn",
        "outputId": "15364f2f-4ebb-45ae-df0e-87452a461ea3",
        "colab": {
          "base_uri": "https://localhost:8080/",
          "height": 545
        }
      },
      "source": [
        "# TODO Code answers to task 3\n",
        "signal, _ = soundfile.read('Count_Of_Three-8khz.wav')\n",
        "plt.plot(signal)\n",
        "plt.title(\"Count_Of_Three-8khz.wav\")\n",
        "plt.show()\n",
        "random_indexes = np.random.choice(_, 500, replace=False)\n",
        "random_signals = signal[random_indexes]\n",
        "plt.plot(random_signals)\n",
        "plt.title(\"Count_Of_Three-8khz.wav_500\")\n",
        "plt.show()"
      ],
      "execution_count": 8,
      "outputs": [
        {
          "output_type": "display_data",
          "data": {
            "image/png": "[encoded data removed]",
            "text/plain": [
              "<Figure size 432x288 with 1 Axes>"
            ]
          },
          "metadata": {
            "tags": [],
            "needs_background": "light"
          }
        },
        {
          "output_type": "display_data",
          "data": {
            "image/png": "[encoded data removed]",
            "text/plain": [
              "<Figure size 432x288 with 1 Axes>"
            ]
          },
          "metadata": {
            "tags": [],
            "needs_background": "light"
          }
        }
      ]
    },
    {
      "cell_type": "markdown",
      "metadata": {
        "id": "_F6luGdjlr6u"
      },
      "source": [
        "## Programming exercise 2: Pre-emphasis and voice activity detection (VAD) (2 points)\n",
        "Often in speech processing tasks such as speech recognition and speaker verification, before doing any block-based steps, people conduct some pre-processing on signal itself. One can refer to [this article](http://practicalcryptography.com/miscellaneous/machine-learning/guide-mel-frequency-cepstral-coefficients-mfccs/) as an example, where the steps for extracting an acoustic features called `Mel-freqneucy Cepstral Coefficients (MFCCs)` are described. While all of those steps such as window functions and Fourier transform will be covered later in the course, you are encouraged to have a quick look at them (and a bit of content in that page will be useful for the following exercise) ☺️. We won't cover them here but later explicitly.\n",
        "\n",
        "The techniques we would like you to implement is not about MFCCs but some pre/post-processing steps. Namely:\n",
        "1. Pre-emphasis. This should be applied on the signal itself and is nothing but a **linear filter**. Formally:\n",
        "$y(n)=x(n)-a*x(n-1)$\n",
        ", where $x(n)$ and $y(n)$ are input and output signal and $a$ is pre-emphasis coefficient.\n",
        "2. Voice activity detection (VAD), where the input shall be **framed signal** or **acoustic feature matrix**, and we are supposed to filtered out **\"unvoiced\"** part of the frames/features based on some criteria. This is in general a very active research area, although we will only cover a simple-but-effective approach here.\n",
        "\n",
        "In this exercise you are asked to implement such two functions in order to gain solid understanding of them. Specifically;\n",
        "1. **Implement pre-emphasis function** `preemphasis`. You are encouraged to try various values of pre-emphasis coefficients to see the effect. What do you think is the most suitable value for $a$? Specific value or range of values are both OK.\n",
        "2. **Implement a feature-level energy-based VAD detector** `compute_vad`. Output shall be features where frames that are voiced. A reference can be found at [here, in section 5](http://cs.joensuu.fi/pages/tkinnu/webpage/pdf/speaker_recognition_overview.pdf). You can see from the testing block that it is applied to MFCC features. How many frames are in the original signal and how many after? Hint: you can check number of frames from the feature matrix.\n",
        "3. Apart from pre-emphasis and VAD, do you have any idea on what other pre/post-processing steps that common speech feature extractors have?\n",
        "\n",
        "Note 1: using any build-in function from python audio libraries (e.g. `librosa.effects.preemphasis`) for implementation of those two methods is not allowed in your implementation. You are strongly encouraged to use only `numpy` (and optionally `scipy`).\n",
        "\n",
        "Note 2: We use `python_speech_features` to produce framed signal in size of $num\\_frames \\times frame\\_size$ and compute MFCCs. More about framing can be found in the article link above (step 1: Frame the signal into 20-40 ms frames. We set the frame size to be 25ms here)."
      ]
    },
    {
      "cell_type": "code",
      "metadata": {
        "id": "9lkhlkguqiIN"
      },
      "source": [
        "# TODO Code answers to tasks 1-2\n",
        "from python_speech_features import fbank, sigproc\n",
        "def preemphasis(signal, coeff=0.97):\n",
        "  '''Perform pre-emphasis\n",
        "  @signal: input signal, in numpy array\n",
        "  @coeff: pre-emphasis coefficient\n",
        "  \n",
        "  return: pre-emphasized signal, in numpy array\n",
        "  '''\n",
        "  return np.append(signal[0], signal[1:] - coeff * signal[:-1])\n",
        "  \n",
        "\n",
        "def compute_vad(frames):\n",
        "  '''compute energy-based VAD indicator from framed signal\n",
        "  @frames: framed signal, in size of [num_frames, frame_size]\n",
        "\n",
        "  return: a vector indicator of voiced frames, in 1-D numpy array\n",
        "          voiced frames are marked with 1, unvoiced as 0\n",
        "          e.g. [ 0 0 1 .... 0 1 1 0 0 0 0 0]\n",
        "  ''' \n",
        "  samp_rate=16000\n",
        "  signals = sigproc.deframesig(frames,siglen=0,frame_len=0.025*samp_rate, frame_step=0.01*samp_rate)\n",
        "  features,energies = fbank(signals)\n",
        "  energies  = np.array([1 if energy > 0 else 0 for energy in energies])\n",
        "  return energies"
      ],
      "execution_count": 132,
      "outputs": []
    },
    {
      "cell_type": "markdown",
      "metadata": {
        "id": "J25CyPNQu7hO"
      },
      "source": [
        "Question in Task 2: How many frames are in the original signal and how many after?\n",
        "\n",
        "There are 2573 frames in the original signal\n",
        "and also there are 576 frames after the preprocessing"
      ]
    },
    {
      "cell_type": "code",
      "metadata": {
        "id": "lKtpffDVqibn",
        "outputId": "3b9e2e4f-65f5-4193-cd1b-23f9db071fd1",
        "colab": {
          "base_uri": "https://localhost:8080/"
        }
      },
      "source": [
        "# Testing to tasks 1-2\n",
        "from python_speech_features import sigproc, mfcc\n",
        "\n",
        "def test_preemph_vad(signal, coeff=0.97, samp_rate=16000, n_mfccs=20):\n",
        "  '''testing function for pre-emphasis and VAD\n",
        "  @signal: input signal/waveform, in numpy array\n",
        "  @coeff: pre-emphasis coefficient\n",
        "  @samp_rate: sampling rate of signal, used in framing\n",
        "  @n_mfccs: number of MFCC coefficients for each frame\n",
        "\n",
        "  return: pre-emphasized signal, voiced frames filtered by VAD\n",
        "  '''\n",
        "  pre_emphed = preemphasis(signal, coeff)\n",
        "  mfccs = mfcc(pre_emphed, samp_rate, n_mfccs)\n",
        "  frames = sigproc.framesig(pre_emphed, 0.025*samp_rate, 0.01*samp_rate)\n",
        "  indicators = compute_vad(frames)\n",
        "  assert frames.shape[0] == indicators.shape[0]\n",
        "  return pre_emphed, np.delete(mfccs, np.where(indicators==0)[0], axis=0)\n",
        "\n",
        "# you can print and plot those two to validate your answer then\n",
        "signal, _ = soundfile.read('Im_Superman.wav')\n",
        "\n",
        "pre_emphed, voiced_mfccs = test_preemph_vad(signal)\n",
        "print(voiced_mfccs.shape)\n"
      ],
      "execution_count": 140,
      "outputs": [
        {
          "output_type": "stream",
          "text": [
            "WARNING:root:frame length (320000) is greater than FFT size (512), frame will be truncated. Increase NFFT to avoid.\n"
          ],
          "name": "stderr"
        },
        {
          "output_type": "stream",
          "text": [
            "(411889,)\n"
          ],
          "name": "stdout"
        }
      ]
    },
    {
      "cell_type": "markdown",
      "metadata": {
        "id": "J1UipF3fvA0X"
      },
      "source": [
        "Question 3: Apart from pre-emphasis and VAD, do you have any idea on what other pre/post-processing steps that common speech feature extractors have? (No need to list all of them, just one or two)\n",
        "\n",
        "1. Frame Blocking\n",
        "2. Hamming Window"
      ]
    },
    {
      "cell_type": "markdown",
      "metadata": {
        "id": "0YPdakzJqi8F"
      },
      "source": [
        "## Programming exercise 3: Simple gender recognition using F0 (6 points)\n",
        "In the first lecture Tomi discussed a probabilistic classifier to predict a person's gender, based on the following assumptions:\n",
        "1. Two *exhaustive and mutually exclusive* classes, female ($F$) and male ($M$). These are the possible values of our **class label** (denoted by $y$).\n",
        "2. Flat/uninformative **prior** over the class variable: $P(M)=P(F)=\\frac{1}{2}$. This distribution encodes our prior belief on the relative commonality of each of our two classes, before any measurement or speech recording takes place. The prior might present your subjective opinion, hunch, or perhaps an educated guess (e.g. based on prior statistics how often male/female users use a particular service on which you plan to mount the gender detector on). Besides flat prior you may wish to have different prior probabilities --- as long as they are positive and sum up to 1.\n",
        "3. Our **observation** or **feature**, denoted by $x$, is the fundamental frequency (F0) in a given audio file (for instance, the **average** F0 value of all voiced speech frames). It is a non-negative real number. Here our measuring unit is Hertz (Hz).\n",
        "4. Our **observation model** for these features $x$ was assumed to be Gaussian (normal distribution). More specifically, we assume that a randomly picked F0 value within a given gender follows a Gaussian distribution.\n",
        "    \n",
        "\\begin{equation}\n",
        "p(x|M) = \\mathcal{N}(x|\\mu_\\text{M},\\sigma_M^2)=\\frac{1}{\\sqrt{2\\pi}\\sigma_M}e^{-\\frac{(x-\\mu_M)^2}{2\\sigma_M^2}}\\nonumber\n",
        "\\end{equation}\n",
        "\n",
        "\\begin{equation}\n",
        "p(x|F) = \\mathcal{N}(x|\\mu_\\text{M},\\sigma_F^2)=\\frac{1}{\\sqrt{2\\pi}\\sigma_F}e^{-\\frac{(x-\\mu_F)^2}{2\\sigma_F^2}}\\nonumber\n",
        "\\end{equation}\n",
        "\n",
        "Your tasks are as follows.\n",
        "1. **Parameter estimation based on training set.** In the lectures we used Wikipedia page for an *adhoc*, `pencil and paper' computation of the parameter values (means and variances for gender). Your task is to use **a labeled training dataset** --- pairs of F0 values and their gender labels $\\{(x_i, y_i)\\}_{i=1}^N$ --- to compute the parameters more objectively. More specifically, your task is to evaluate **sample mean** and **sample variance** for the parameters within each gender. Implement this parameter fitting process based on data provided by the instructors, and graph the resulting two probability density functions in the same figure (e.g. different colors for the genders).\n",
        "\n",
        "> Question: What is the sample mean and variance for each gender from the training dataset?\n",
        "\n",
        "2. **Evaluating the gender detector.** Additionally, your task is to **objectively evaluate** how accurate your gender recognizer is. Keep in mind all the time that in this course we are interested in methods that operate on **unseen data**. In this case it means that you should use <u>different speakers</u> to find the parameter values, and for the evaluation of your classifier. As for the evaluation (on new speakers/new data $x$), simply **predict** the class label using Bayes' rule --- i.e., choosing the `more probable' class: \n",
        "\n",
        "\\begin{equation}\n",
        "    \\text{Gender}=\n",
        "    \\begin{cases}\n",
        "      \\text{male}, & \\text{if}\\ P(M|x) > P(F|x) \\\\\n",
        "      \\text{female}, & \\text{if}\\ P(M|x) \\leq P(F|x)\n",
        "    \\end{cases}\n",
        "\\end{equation}\n",
        "\n",
        "> This gives you a **prediction** of the gender based on data $x$. This prediction might be correct, or it might be wrong. Please report separately the number of errors in the two possible cases that we have:\n",
        "* Your classifier says `male` but the actual gender is `female`;\n",
        "* Your classifier says `female` but the actual gender is `male`.\n",
        "\n",
        "> You can try with either wav files recorded by yourself or sample wav files from Lauri as presented in his lecture. We provided the downloading and un-reveling code below.\n",
        "\n",
        "> Question: if you misclassified wav files, what do you think can be the reason?\n",
        "\n",
        "3. **Working out Bayes threshold under a simplified model.** Consider a simpler model where the two genders differ in the means of their F0 distribution but have **shared variance**. That is, $p(x|M)=\\mathcal{N}(x|\\mu_M,\\sigma^2)$ and $p(x|F)=\\mathcal{N}(x|\\mu_F,\\sigma^2)$, where $\\sigma^2$ is the common variance parameter. Suppose that we have again $P(M)=P(F)=\\frac{1}{2}$ and assume additionally that $\\mu_F > \\mu_M$. Recall the above Bayes classifier in task 1. Show that under these modeling assumptions, the Bayes classifier is actually the same as our simple threshold-based classifier that we started with: \n",
        "\n",
        "\\begin{equation}\n",
        "    \\text{Gender}=\n",
        "    \\begin{cases}\n",
        "      \\text{male}, & \\text{if}\\ x < t \\\\\n",
        "      \\text{female}, & \\text{if}\\ x \\geq t \\nonumber\n",
        "    \\end{cases}\n",
        "\\end{equation}\n",
        "\n",
        "> In particular, find the closed-form expression of the threshold $t$ (in terms of our model parameters, $\\mu_M$, $\\mu_F$ and $\\sigma^2$).\n",
        "\n"
      ]
    },
    {
      "cell_type": "code",
      "metadata": {
        "id": "530nNqp2qrnd",
        "outputId": "c8714cc6-3554-4d85-d1c8-af3649c37ef3",
        "colab": {
          "base_uri": "https://localhost:8080/"
        }
      },
      "source": [
        "# Task 1: Download the dataset voxceleb_f0.txt\n",
        "#\n",
        "# attributes of the file: \n",
        "# [SPEAKER_ID GENDER F0_VALUE]\n",
        "!wget -nc 'https://gist.githubusercontent.com/trungnt13/4a6a238995b42ba8b84fbab4b1d9fbe8/raw/ffd2958d57084d4220aee137068f31117f894b0e/voxceleb_f0.txt'\n",
        "\n",
        "# You can uncomment code below to check if loading is successful\n",
        "# with open('voxceleb_f0.txt', 'r') as v:\n",
        "#   for line in v:\n",
        "#     print(line)"
      ],
      "execution_count": 1,
      "outputs": [
        {
          "output_type": "stream",
          "text": [
            "--2020-11-04 04:59:24--  https://gist.githubusercontent.com/trungnt13/4a6a238995b42ba8b84fbab4b1d9fbe8/raw/ffd2958d57084d4220aee137068f31117f894b0e/voxceleb_f0.txt\n",
            "Resolving gist.githubusercontent.com (gist.githubusercontent.com)... 151.101.0.133, 151.101.64.133, 151.101.128.133, ...\n",
            "Connecting to gist.githubusercontent.com (gist.githubusercontent.com)|151.101.0.133|:443... connected.\n",
            "HTTP request sent, awaiting response... 200 OK\n",
            "Length: 22804 (22K) [text/plain]\n",
            "Saving to: ‘voxceleb_f0.txt’\n",
            "\n",
            "voxceleb_f0.txt     100%[===================>]  22.27K  --.-KB/s    in 0.01s   \n",
            "\n",
            "2020-11-04 04:59:25 (1.77 MB/s) - ‘voxceleb_f0.txt’ saved [22804/22804]\n",
            "\n"
          ],
          "name": "stdout"
        }
      ]
    },
    {
      "cell_type": "code",
      "metadata": {
        "id": "pfytOJIRx2FL",
        "outputId": "9dac431d-fc51-459b-c260-cf44fb036ef8",
        "colab": {
          "base_uri": "https://localhost:8080/",
          "height": 364
        }
      },
      "source": [
        "# TODO Code answer to Task 1 \n",
        "# (please run the code block above first)\n",
        "import pandas as pd\n",
        "import numpy as np\n",
        "import scipy.stats as stats\n",
        "import math\n",
        "import matplotlib.pyplot as plt\n",
        "\n",
        "\n",
        "#read the dataset\n",
        "data = pd.read_csv(\"voxceleb_f0.txt\", delimiter=' ', header=None)\n",
        "\n",
        "# add column name to access the fields easily\n",
        "data.columns = ['ID','Gender','Value']\n",
        "\n",
        "# find mean for gender = male\n",
        "grouped = data.groupby('Gender')\n",
        "\n",
        "calc = (grouped['Value'].agg([np.mean, np.var, np.std]))\n",
        "\n",
        "print (calc)\n",
        "\n",
        "female = calc[0:1]\n",
        "male = calc[1:2]\n",
        "\n",
        "# MEAN value of Female and Male\n",
        "female_mean = female['mean']\n",
        "male_mean = male['mean']\n",
        "\n",
        "# VARIANCE of Female and Male\n",
        "female_var = female ['var']\n",
        "male_var = male ['var']\n",
        "\n",
        "#Standarad Deviation of Female and Male\n",
        "female_std = female ['std']\n",
        "male_std = male['std']\n",
        "\n",
        "# Prior probability of female and male\n",
        "Prior_F = 0.50\n",
        "Prior_M = 1 - Prior_F\n",
        "\n",
        "# Produce all possible F0 values\n",
        "x = np.linspace(0, 500, 1000)\n",
        "\n",
        "# (Unnormalized) posteriors\n",
        "temp_F = Prior_F * stats.norm.pdf(x, female_mean, female_std) #math.sqrt(female_var))\n",
        "temp_M = Prior_M * stats.norm.pdf(x, male_mean, male_std) #math.sqrt(male_var))\n",
        "\n",
        "# Normalizer p(x)\n",
        "p_x = temp_F + temp_M\n",
        "\n",
        "# Normalize the posteriors so that they sum up to 1\n",
        "Posterior_F = temp_F/p_x\n",
        "Posterior_M = temp_M/p_x\n",
        "\n",
        "plt.plot(x,Posterior_F,color='green',label='Female')\n",
        "plt.plot(x,Posterior_M,color='brown',label='Male')\n",
        "plt.xlabel('F0 (Hz)')\n",
        "plt.ylabel('Posterior probability')\n",
        "plt.legend(loc='best')\n",
        "\n",
        "\n"
      ],
      "execution_count": 2,
      "outputs": [
        {
          "output_type": "stream",
          "text": [
            "              mean          var        std\n",
            "Gender                                    \n",
            "f       201.362660  1586.847047  39.835249\n",
            "m       134.197657  1046.627776  32.351627\n"
          ],
          "name": "stdout"
        },
        {
          "output_type": "execute_result",
          "data": {
            "text/plain": [
              "<matplotlib.legend.Legend at 0x7f976fcb66a0>"
            ]
          },
          "metadata": {
            "tags": []
          },
          "execution_count": 2
        },
        {
          "output_type": "display_data",
          "data": {
            "image/png": "[encoded data removed]",
            "text/plain": [
              "<Figure size 432x288 with 1 Axes>"
            ]
          },
          "metadata": {
            "tags": [],
            "needs_background": "light"
          }
        }
      ]
    },
    {
      "cell_type": "markdown",
      "metadata": {
        "id": "WD7l1hJ2zmXv"
      },
      "source": [
        "Question in Task 1: What is the sample mean and variance for each gender from the training dataset?\n",
        "\n",
        "Female\n",
        "- Mean = 201.362660\n",
        "- Variance = 1586.847047\n",
        "\n",
        "Male\n",
        "- Mean = 134.197657\n",
        "- Variance = 1046.62776\n"
      ]
    },
    {
      "cell_type": "code",
      "metadata": {
        "id": "JKyKyjfq8-KB",
        "outputId": "e16e1951-7790-4a44-851e-bb146dae0326",
        "colab": {
          "base_uri": "https://localhost:8080/"
        }
      },
      "source": [
        "# Task 2: Download and unzip the sample wavs; install praat\n",
        "#\n",
        "!wget -nc https://gist.github.com/underdogliu/0f9535e668aa8e44a796297239bffb19/raw/877840f2a20293dc615614084a4e14d77f3fafbb/task2_eval_wavs.zip\n",
        "!unzip task2_eval_wavs.zip\n",
        "!pip install praat-parselmouth\n",
        "\n",
        "# files are stored in folder 'sample_test_wavs/'.\n",
        "# You can load files and check signal like below:\n",
        "# import soundfile\n",
        "# signal, _ = soundfile.read('sample_test_wavs/male1.wav')\n",
        "# print(signal) "
      ],
      "execution_count": 3,
      "outputs": [
        {
          "output_type": "stream",
          "text": [
            "--2020-11-04 07:39:41--  https://gist.github.com/underdogliu/0f9535e668aa8e44a796297239bffb19/raw/877840f2a20293dc615614084a4e14d77f3fafbb/task2_eval_wavs.zip\n",
            "Resolving gist.github.com (gist.github.com)... 140.82.112.3\n",
            "Connecting to gist.github.com (gist.github.com)|140.82.112.3|:443... connected.\n",
            "HTTP request sent, awaiting response... 301 Moved Permanently\n",
            "Location: https://gist.githubusercontent.com/underdogliu/0f9535e668aa8e44a796297239bffb19/raw/877840f2a20293dc615614084a4e14d77f3fafbb/task2_eval_wavs.zip [following]\n",
            "--2020-11-04 07:39:41--  https://gist.githubusercontent.com/underdogliu/0f9535e668aa8e44a796297239bffb19/raw/877840f2a20293dc615614084a4e14d77f3fafbb/task2_eval_wavs.zip\n",
            "Resolving gist.githubusercontent.com (gist.githubusercontent.com)... 151.101.0.133, 151.101.64.133, 151.101.128.133, ...\n",
            "Connecting to gist.githubusercontent.com (gist.githubusercontent.com)|151.101.0.133|:443... connected.\n",
            "HTTP request sent, awaiting response... 200 OK\n",
            "Length: 1151798 (1.1M) [application/zip]\n",
            "Saving to: ‘task2_eval_wavs.zip’\n",
            "\n",
            "task2_eval_wavs.zip 100%[===================>]   1.10M  --.-KB/s    in 0.1s    \n",
            "\n",
            "2020-11-04 07:39:42 (11.1 MB/s) - ‘task2_eval_wavs.zip’ saved [1151798/1151798]\n",
            "\n",
            "Archive:  task2_eval_wavs.zip\n",
            "   creating: sample_test_wavs/\n",
            "  inflating: __MACOSX/._sample_test_wavs  \n",
            "  inflating: sample_test_wavs/male3.wav  \n",
            "  inflating: __MACOSX/sample_test_wavs/._male3.wav  \n",
            "  inflating: sample_test_wavs/male2.wav  \n",
            "  inflating: __MACOSX/sample_test_wavs/._male2.wav  \n",
            "  inflating: sample_test_wavs/male1.wav  \n",
            "  inflating: __MACOSX/sample_test_wavs/._male1.wav  \n",
            "  inflating: sample_test_wavs/.DS_Store  \n",
            "  inflating: __MACOSX/sample_test_wavs/._.DS_Store  \n",
            "  inflating: sample_test_wavs/female2.wav  \n",
            "  inflating: __MACOSX/sample_test_wavs/._female2.wav  \n",
            "  inflating: sample_test_wavs/female1.wav  \n",
            "  inflating: __MACOSX/sample_test_wavs/._female1.wav  \n",
            "Collecting praat-parselmouth\n",
            "\u001b[?25l  Downloading https://files.pythonhosted.org/packages/09/7b/9fa1172a63b6277603d27bb5613559b5a8888f58e68c1698017b87b0061d/praat_parselmouth-0.3.3-cp36-cp36m-manylinux1_x86_64.whl (9.0MB)\n",
            "\u001b[K     |████████████████████████████████| 9.0MB 2.7MB/s \n",
            "\u001b[?25hRequirement already satisfied: numpy>=1.7.0 in /usr/local/lib/python3.6/dist-packages (from praat-parselmouth) (1.18.5)\n",
            "Installing collected packages: praat-parselmouth\n",
            "Successfully installed praat-parselmouth-0.3.3\n"
          ],
          "name": "stdout"
        }
      ]
    },
    {
      "cell_type": "code",
      "metadata": {
        "id": "7FqMbA6-y9yx",
        "outputId": "33e27ac6-99af-4fb1-d59f-cc34a536a49e",
        "colab": {
          "base_uri": "https://localhost:8080/"
        }
      },
      "source": [
        "def calc_f0(wav_file):\n",
        "  '''helper function to calculate F0 value from a wav file,\n",
        "    citing Lauri's sample code from lecture\n",
        "  @wav_file: input path of wav file\n",
        "\n",
        "  return: F0 value of the wav file, single value in Hertz\n",
        "  '''\n",
        "  sound = parselmouth.Sound(wav_file)\n",
        "  pitch = sound.to_pitch()\n",
        "  f0 = parselmouth.praat.call(pitch, \"Get mean\", 0.0, 0.0, \"Hertz\")\n",
        "  return f0\n",
        "\n",
        "# TODO Code answer to Task 2\n",
        "import parselmouth\n",
        "import os.path\n",
        "import glob\n",
        "import pandas as pd \n",
        "\n",
        "# Creates a header for dataframe\n",
        "df = pd.DataFrame(columns=[\"Actual gender\", \"Predicted gender\", \"F0\"])\n",
        "\n",
        "# Mean and variance values from  F0 distribution\n",
        "female_mean = 210.0\n",
        "male_mean = 132.5\n",
        "\n",
        "female_var = 506.25\n",
        "male_var = 564.0625\n",
        "\n",
        "for wave_file in glob.glob(\"/content/sample_test_wavs/*.wav\"):\n",
        "    file_name = os.path.basename(wave_file)\n",
        "    f0 = calc_f0(wave_file)\n",
        "    print('F0', f0)\n",
        "\n",
        "    # (Unnormalized) posteriors\n",
        "    temp_F = Prior_F * stats.norm.pdf(f0, female_mean, math.sqrt(female_var)) \n",
        "    temp_M = Prior_M * stats.norm.pdf(f0, male_mean, math.sqrt(male_var))\n",
        "    \n",
        "    # Normalizer p(x)\n",
        "    p_x = temp_F + temp_M\n",
        "\n",
        "    # Normalize the posteriors so that they sum up to 1\n",
        "    Posterior_F = temp_F/p_x\n",
        "    Posterior_M = temp_M/p_x\n",
        "    print('Posterior_F',Posterior_F)\n",
        "    print('Posterior_M',Posterior_M)\n",
        "    actual_gender  = file_name[0]\n",
        "\n",
        "    if Posterior_M > Posterior_F:\n",
        "       predicted_gender = 'm'\n",
        "    elif Posterior_M <= Posterior_F:\n",
        "        predicted_gender = 'f'\n",
        "    new_row = {'Actual gender': actual_gender, 'Predicted gender': predicted_gender, 'F0': f0}\n",
        "    df = df.append(new_row, ignore_index=True)\n",
        "\n",
        "print(df)"
      ],
      "execution_count": 4,
      "outputs": [
        {
          "output_type": "stream",
          "text": [
            "F0 181.21217355630824\n",
            "Posterior_F 0.7923155497416908\n",
            "Posterior_M 0.20768445025830926\n",
            "F0 260.49406212238796\n",
            "Posterior_F 0.999994200655992\n",
            "Posterior_M 5.799344008043191e-06\n",
            "F0 161.818831975278\n",
            "Posterior_F 0.18592165027181867\n",
            "Posterior_M 0.8140783497281814\n",
            "F0 168.2792696409236\n",
            "Posterior_F 0.3704472584831321\n",
            "Posterior_M 0.6295527415168679\n",
            "F0 131.27733229252462\n",
            "Posterior_F 0.0023165507827303286\n",
            "Posterior_M 0.9976834492172697\n",
            "  Actual gender Predicted gender          F0\n",
            "0             f                f  181.212174\n",
            "1             f                f  260.494062\n",
            "2             m                m  161.818832\n",
            "3             m                m  168.279270\n",
            "4             m                m  131.277332\n"
          ],
          "name": "stdout"
        }
      ]
    },
    {
      "cell_type": "markdown",
      "metadata": {
        "id": "AkCBCAZk-kBp"
      },
      "source": [
        "Question in Task 2: if you misclassified speaker's gender via F0, what do you think can be the reason?\n",
        "\n",
        "(Answers here)"
      ]
    },
    {
      "cell_type": "code",
      "metadata": {
        "id": "72aR1Tdhy_Jb"
      },
      "source": [
        "# TODO Code answer to Task 3\n"
      ],
      "execution_count": null,
      "outputs": []
    }
  ]
}